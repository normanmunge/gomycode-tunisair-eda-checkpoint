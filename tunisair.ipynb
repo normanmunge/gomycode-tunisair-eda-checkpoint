{
 "cells": [
  {
   "cell_type": "markdown",
   "id": "50d9d7aa-bafd-4961-a733-e17fe24972a9",
   "metadata": {},
   "source": [
    "# Tunisair Data Exploratory"
   ]
  },
  {
   "cell_type": "code",
   "execution_count": 2,
   "id": "670ac76a-ed38-4e00-9284-086069225e98",
   "metadata": {},
   "outputs": [],
   "source": [
    "import pandas as pd\n",
    "from ydata_profiling import ProfileReport"
   ]
  },
  {
   "cell_type": "markdown",
   "id": "93dde35d-7b6e-45cb-949b-b574581246db",
   "metadata": {},
   "source": [
    "### Load Dataset and Get Overview of the data"
   ]
  },
  {
   "cell_type": "code",
   "execution_count": 3,
   "id": "1559549c-d4b3-4e9f-8f7c-ef0d4bc5bf53",
   "metadata": {},
   "outputs": [
    {
     "data": {
      "text/html": [
       "<div>\n",
       "<style scoped>\n",
       "    .dataframe tbody tr th:only-of-type {\n",
       "        vertical-align: middle;\n",
       "    }\n",
       "\n",
       "    .dataframe tbody tr th {\n",
       "        vertical-align: top;\n",
       "    }\n",
       "\n",
       "    .dataframe thead th {\n",
       "        text-align: right;\n",
       "    }\n",
       "</style>\n",
       "<table border=\"1\" class=\"dataframe\">\n",
       "  <thead>\n",
       "    <tr style=\"text-align: right;\">\n",
       "      <th></th>\n",
       "      <th>Filght_date</th>\n",
       "      <th>Flight_ID</th>\n",
       "      <th>Departure point</th>\n",
       "      <th>Arrival point</th>\n",
       "      <th>Scheduled_departure_time</th>\n",
       "      <th>Scheduled_arrival_time</th>\n",
       "      <th>STATUS</th>\n",
       "      <th>Aircraft_code</th>\n",
       "      <th>Arrival delay</th>\n",
       "    </tr>\n",
       "  </thead>\n",
       "  <tbody>\n",
       "    <tr>\n",
       "      <th>0</th>\n",
       "      <td>2016-01-03</td>\n",
       "      <td>TU 0712</td>\n",
       "      <td>CMN</td>\n",
       "      <td>TUN</td>\n",
       "      <td>2016-01-03 10:30:00</td>\n",
       "      <td>2016-01-03 12.55.00</td>\n",
       "      <td>ATA</td>\n",
       "      <td>TU 32AIMN</td>\n",
       "      <td>260.0</td>\n",
       "    </tr>\n",
       "    <tr>\n",
       "      <th>1</th>\n",
       "      <td>2016-01-13</td>\n",
       "      <td>TU 0757</td>\n",
       "      <td>MXP</td>\n",
       "      <td>TUN</td>\n",
       "      <td>2016-01-13 15:05:00</td>\n",
       "      <td>2016-01-13 16.55.00</td>\n",
       "      <td>ATA</td>\n",
       "      <td>TU 31BIMO</td>\n",
       "      <td>20.0</td>\n",
       "    </tr>\n",
       "    <tr>\n",
       "      <th>2</th>\n",
       "      <td>2016-01-16</td>\n",
       "      <td>TU 0214</td>\n",
       "      <td>TUN</td>\n",
       "      <td>IST</td>\n",
       "      <td>2016-01-16 04:10:00</td>\n",
       "      <td>2016-01-16 06.45.00</td>\n",
       "      <td>ATA</td>\n",
       "      <td>TU 32AIMN</td>\n",
       "      <td>0.0</td>\n",
       "    </tr>\n",
       "    <tr>\n",
       "      <th>3</th>\n",
       "      <td>2016-01-17</td>\n",
       "      <td>TU 0480</td>\n",
       "      <td>DJE</td>\n",
       "      <td>NTE</td>\n",
       "      <td>2016-01-17 14:10:00</td>\n",
       "      <td>2016-01-17 17.00.00</td>\n",
       "      <td>ATA</td>\n",
       "      <td>TU 736IOK</td>\n",
       "      <td>0.0</td>\n",
       "    </tr>\n",
       "    <tr>\n",
       "      <th>4</th>\n",
       "      <td>2016-01-17</td>\n",
       "      <td>TU 0338</td>\n",
       "      <td>TUN</td>\n",
       "      <td>ALG</td>\n",
       "      <td>2016-01-17 14:30:00</td>\n",
       "      <td>2016-01-17 15.50.00</td>\n",
       "      <td>ATA</td>\n",
       "      <td>TU 320IMU</td>\n",
       "      <td>22.0</td>\n",
       "    </tr>\n",
       "  </tbody>\n",
       "</table>\n",
       "</div>"
      ],
      "text/plain": [
       "  Filght_date Flight_ID Departure point Arrival point  \\\n",
       "0  2016-01-03  TU 0712              CMN           TUN   \n",
       "1  2016-01-13  TU 0757              MXP           TUN   \n",
       "2  2016-01-16  TU 0214              TUN           IST   \n",
       "3  2016-01-17  TU 0480              DJE           NTE   \n",
       "4  2016-01-17  TU 0338              TUN           ALG   \n",
       "\n",
       "  Scheduled_departure_time Scheduled_arrival_time STATUS Aircraft_code  \\\n",
       "0      2016-01-03 10:30:00    2016-01-03 12.55.00    ATA     TU 32AIMN   \n",
       "1      2016-01-13 15:05:00    2016-01-13 16.55.00    ATA     TU 31BIMO   \n",
       "2      2016-01-16 04:10:00    2016-01-16 06.45.00    ATA     TU 32AIMN   \n",
       "3      2016-01-17 14:10:00    2016-01-17 17.00.00    ATA     TU 736IOK   \n",
       "4      2016-01-17 14:30:00    2016-01-17 15.50.00    ATA     TU 320IMU   \n",
       "\n",
       "   Arrival delay  \n",
       "0          260.0  \n",
       "1           20.0  \n",
       "2            0.0  \n",
       "3            0.0  \n",
       "4           22.0  "
      ]
     },
     "execution_count": 3,
     "metadata": {},
     "output_type": "execute_result"
    }
   ],
   "source": [
    "tunisair_df = pd.read_csv('datasets/tunisair_flights_dataset.csv')\n",
    "df = tunisair_df.copy()\n",
    "df.head()"
   ]
  },
  {
   "cell_type": "markdown",
   "id": "df599a17-2292-4baa-bfef-220fda0c29ec",
   "metadata": {},
   "source": [
    "The dataset has 107833 rows and 9 columns"
   ]
  },
  {
   "cell_type": "code",
   "execution_count": 6,
   "id": "936fc97a-619e-4901-b3c6-0868a0561438",
   "metadata": {},
   "outputs": [
    {
     "data": {
      "text/plain": [
       "(107833, 9)"
      ]
     },
     "execution_count": 6,
     "metadata": {},
     "output_type": "execute_result"
    }
   ],
   "source": [
    "df.shape"
   ]
  },
  {
   "cell_type": "markdown",
   "id": "3b8641ff-9d0e-4a92-8064-d6b81a047f71",
   "metadata": {},
   "source": [
    "There seems to be no missing values in the dataset and all the columns are object types except the arrival delay"
   ]
  },
  {
   "cell_type": "code",
   "execution_count": 5,
   "id": "c3222117-af7a-442d-b070-ee12930184df",
   "metadata": {},
   "outputs": [
    {
     "name": "stdout",
     "output_type": "stream",
     "text": [
      "<class 'pandas.core.frame.DataFrame'>\n",
      "RangeIndex: 107833 entries, 0 to 107832\n",
      "Data columns (total 9 columns):\n",
      " #   Column                    Non-Null Count   Dtype  \n",
      "---  ------                    --------------   -----  \n",
      " 0   Filght_date               107833 non-null  object \n",
      " 1   Flight_ID                 107833 non-null  object \n",
      " 2   Departure point           107833 non-null  object \n",
      " 3   Arrival point             107833 non-null  object \n",
      " 4   Scheduled_departure_time  107833 non-null  object \n",
      " 5   Scheduled_arrival_time    107833 non-null  object \n",
      " 6   STATUS                    107833 non-null  object \n",
      " 7   Aircraft_code             107833 non-null  object \n",
      " 8   Arrival delay             107833 non-null  float64\n",
      "dtypes: float64(1), object(8)\n",
      "memory usage: 7.4+ MB\n"
     ]
    }
   ],
   "source": [
    "df.info()"
   ]
  },
  {
   "cell_type": "code",
   "execution_count": 7,
   "id": "e3b9a947-7e72-48a5-9f58-20f07934db50",
   "metadata": {},
   "outputs": [
    {
     "data": {
      "text/plain": [
       "Filght_date                 0\n",
       "Flight_ID                   0\n",
       "Departure point             0\n",
       "Arrival point               0\n",
       "Scheduled_departure_time    0\n",
       "Scheduled_arrival_time      0\n",
       "STATUS                      0\n",
       "Aircraft_code               0\n",
       "Arrival delay               0\n",
       "dtype: int64"
      ]
     },
     "execution_count": 7,
     "metadata": {},
     "output_type": "execute_result"
    }
   ],
   "source": [
    "df.isnull().sum()"
   ]
  },
  {
   "cell_type": "code",
   "execution_count": 8,
   "id": "2be533d1-0d7a-4df3-9e0e-4797b4ae6693",
   "metadata": {},
   "outputs": [
    {
     "data": {
      "text/html": [
       "<div>\n",
       "<style scoped>\n",
       "    .dataframe tbody tr th:only-of-type {\n",
       "        vertical-align: middle;\n",
       "    }\n",
       "\n",
       "    .dataframe tbody tr th {\n",
       "        vertical-align: top;\n",
       "    }\n",
       "\n",
       "    .dataframe thead th {\n",
       "        text-align: right;\n",
       "    }\n",
       "</style>\n",
       "<table border=\"1\" class=\"dataframe\">\n",
       "  <thead>\n",
       "    <tr style=\"text-align: right;\">\n",
       "      <th></th>\n",
       "      <th>Filght_date</th>\n",
       "      <th>Flight_ID</th>\n",
       "      <th>Departure point</th>\n",
       "      <th>Arrival point</th>\n",
       "      <th>Scheduled_departure_time</th>\n",
       "      <th>Scheduled_arrival_time</th>\n",
       "      <th>STATUS</th>\n",
       "      <th>Aircraft_code</th>\n",
       "      <th>Arrival delay</th>\n",
       "    </tr>\n",
       "  </thead>\n",
       "  <tbody>\n",
       "    <tr>\n",
       "      <th>count</th>\n",
       "      <td>107833</td>\n",
       "      <td>107833</td>\n",
       "      <td>107833</td>\n",
       "      <td>107833</td>\n",
       "      <td>107833</td>\n",
       "      <td>107833</td>\n",
       "      <td>107833</td>\n",
       "      <td>107833</td>\n",
       "      <td>107833.000000</td>\n",
       "    </tr>\n",
       "    <tr>\n",
       "      <th>unique</th>\n",
       "      <td>1011</td>\n",
       "      <td>1861</td>\n",
       "      <td>132</td>\n",
       "      <td>128</td>\n",
       "      <td>81697</td>\n",
       "      <td>85136</td>\n",
       "      <td>5</td>\n",
       "      <td>68</td>\n",
       "      <td>NaN</td>\n",
       "    </tr>\n",
       "    <tr>\n",
       "      <th>top</th>\n",
       "      <td>2018-08-31</td>\n",
       "      <td>WKL 0000</td>\n",
       "      <td>TUN</td>\n",
       "      <td>TUN</td>\n",
       "      <td>2017-06-23 06:00:00</td>\n",
       "      <td>2016-01-19 01.00.00</td>\n",
       "      <td>ATA</td>\n",
       "      <td>TU 320IMU</td>\n",
       "      <td>NaN</td>\n",
       "    </tr>\n",
       "    <tr>\n",
       "      <th>freq</th>\n",
       "      <td>183</td>\n",
       "      <td>3105</td>\n",
       "      <td>42522</td>\n",
       "      <td>42572</td>\n",
       "      <td>8</td>\n",
       "      <td>6</td>\n",
       "      <td>93679</td>\n",
       "      <td>4724</td>\n",
       "      <td>NaN</td>\n",
       "    </tr>\n",
       "    <tr>\n",
       "      <th>mean</th>\n",
       "      <td>NaN</td>\n",
       "      <td>NaN</td>\n",
       "      <td>NaN</td>\n",
       "      <td>NaN</td>\n",
       "      <td>NaN</td>\n",
       "      <td>NaN</td>\n",
       "      <td>NaN</td>\n",
       "      <td>NaN</td>\n",
       "      <td>48.733013</td>\n",
       "    </tr>\n",
       "    <tr>\n",
       "      <th>std</th>\n",
       "      <td>NaN</td>\n",
       "      <td>NaN</td>\n",
       "      <td>NaN</td>\n",
       "      <td>NaN</td>\n",
       "      <td>NaN</td>\n",
       "      <td>NaN</td>\n",
       "      <td>NaN</td>\n",
       "      <td>NaN</td>\n",
       "      <td>117.135562</td>\n",
       "    </tr>\n",
       "    <tr>\n",
       "      <th>min</th>\n",
       "      <td>NaN</td>\n",
       "      <td>NaN</td>\n",
       "      <td>NaN</td>\n",
       "      <td>NaN</td>\n",
       "      <td>NaN</td>\n",
       "      <td>NaN</td>\n",
       "      <td>NaN</td>\n",
       "      <td>NaN</td>\n",
       "      <td>0.000000</td>\n",
       "    </tr>\n",
       "    <tr>\n",
       "      <th>25%</th>\n",
       "      <td>NaN</td>\n",
       "      <td>NaN</td>\n",
       "      <td>NaN</td>\n",
       "      <td>NaN</td>\n",
       "      <td>NaN</td>\n",
       "      <td>NaN</td>\n",
       "      <td>NaN</td>\n",
       "      <td>NaN</td>\n",
       "      <td>0.000000</td>\n",
       "    </tr>\n",
       "    <tr>\n",
       "      <th>50%</th>\n",
       "      <td>NaN</td>\n",
       "      <td>NaN</td>\n",
       "      <td>NaN</td>\n",
       "      <td>NaN</td>\n",
       "      <td>NaN</td>\n",
       "      <td>NaN</td>\n",
       "      <td>NaN</td>\n",
       "      <td>NaN</td>\n",
       "      <td>14.000000</td>\n",
       "    </tr>\n",
       "    <tr>\n",
       "      <th>75%</th>\n",
       "      <td>NaN</td>\n",
       "      <td>NaN</td>\n",
       "      <td>NaN</td>\n",
       "      <td>NaN</td>\n",
       "      <td>NaN</td>\n",
       "      <td>NaN</td>\n",
       "      <td>NaN</td>\n",
       "      <td>NaN</td>\n",
       "      <td>43.000000</td>\n",
       "    </tr>\n",
       "    <tr>\n",
       "      <th>max</th>\n",
       "      <td>NaN</td>\n",
       "      <td>NaN</td>\n",
       "      <td>NaN</td>\n",
       "      <td>NaN</td>\n",
       "      <td>NaN</td>\n",
       "      <td>NaN</td>\n",
       "      <td>NaN</td>\n",
       "      <td>NaN</td>\n",
       "      <td>3451.000000</td>\n",
       "    </tr>\n",
       "  </tbody>\n",
       "</table>\n",
       "</div>"
      ],
      "text/plain": [
       "       Filght_date  Flight_ID Departure point Arrival point  \\\n",
       "count       107833     107833          107833        107833   \n",
       "unique        1011       1861             132           128   \n",
       "top     2018-08-31  WKL 0000              TUN           TUN   \n",
       "freq           183       3105           42522         42572   \n",
       "mean           NaN        NaN             NaN           NaN   \n",
       "std            NaN        NaN             NaN           NaN   \n",
       "min            NaN        NaN             NaN           NaN   \n",
       "25%            NaN        NaN             NaN           NaN   \n",
       "50%            NaN        NaN             NaN           NaN   \n",
       "75%            NaN        NaN             NaN           NaN   \n",
       "max            NaN        NaN             NaN           NaN   \n",
       "\n",
       "       Scheduled_departure_time Scheduled_arrival_time  STATUS Aircraft_code  \\\n",
       "count                    107833                 107833  107833        107833   \n",
       "unique                    81697                  85136       5            68   \n",
       "top         2017-06-23 06:00:00    2016-01-19 01.00.00     ATA     TU 320IMU   \n",
       "freq                          8                      6   93679          4724   \n",
       "mean                        NaN                    NaN     NaN           NaN   \n",
       "std                         NaN                    NaN     NaN           NaN   \n",
       "min                         NaN                    NaN     NaN           NaN   \n",
       "25%                         NaN                    NaN     NaN           NaN   \n",
       "50%                         NaN                    NaN     NaN           NaN   \n",
       "75%                         NaN                    NaN     NaN           NaN   \n",
       "max                         NaN                    NaN     NaN           NaN   \n",
       "\n",
       "        Arrival delay  \n",
       "count   107833.000000  \n",
       "unique            NaN  \n",
       "top               NaN  \n",
       "freq              NaN  \n",
       "mean        48.733013  \n",
       "std        117.135562  \n",
       "min          0.000000  \n",
       "25%          0.000000  \n",
       "50%         14.000000  \n",
       "75%         43.000000  \n",
       "max       3451.000000  "
      ]
     },
     "execution_count": 8,
     "metadata": {},
     "output_type": "execute_result"
    }
   ],
   "source": [
    "# Get summary statistics of the dataset\n",
    "df.describe(include='all')"
   ]
  },
  {
   "cell_type": "markdown",
   "id": "70f7579a-55b6-484b-bdb9-fcec39e0e745",
   "metadata": {},
   "source": [
    "### Use ydata profiling to generate the report"
   ]
  },
  {
   "cell_type": "code",
   "execution_count": 9,
   "id": "688f84eb-e980-416b-989f-938d7774c39c",
   "metadata": {},
   "outputs": [
    {
     "name": "stderr",
     "output_type": "stream",
     "text": [
      "Summarize dataset: 100%|█████████████| 19/19 [00:01<00:00, 11.93it/s, Completed]\n",
      "Generate report structure: 100%|██████████████████| 1/1 [00:02<00:00,  2.08s/it]\n",
      "Render HTML: 100%|████████████████████████████████| 1/1 [00:00<00:00,  5.27it/s]\n",
      "Export report to file: 100%|█████████████████████| 1/1 [00:00<00:00, 689.17it/s]\n"
     ]
    }
   ],
   "source": [
    "profile = ProfileReport(df, title='Tunisair EDA')\n",
    "profile.to_file(output_file='profile-report.html')"
   ]
  },
  {
   "cell_type": "markdown",
   "id": "88860531-0e73-4280-b4c1-a7ef88f509c8",
   "metadata": {
    "jp-MarkdownHeadingCollapsed": true
   },
   "source": [
    "#### Report Findings\n",
    "\n",
    "* There are no missing values nor duplicates in the ydata profile report\n",
    "* The profile report is able to distinguish the different data types of the columns as opposed to `df.info()` e.g. the datetime column is distinctively shown as opposed to object type for the same column in df.info\n",
    "* There distinct values for each columns:\n",
    "   * Flight date - 1011\n",
    "   * Flight id - 1861\n",
    "   * Departure time - 132\n",
    "   * Arrival point - 128\n",
    "   * Scheduled departure time - 81697\n",
    "   * Scheduled arrival time - 85136\n",
    "   * Aircraft code - 68\n",
    "* 35% of the flights did not have delayed arrival times\n",
    "* There are 5 distinct status:\n",
    "  * ATA - Actual Arrival Time\n",
    "  * SCH - Scheduled\n",
    "  * DEP - Departure\n",
    "  * RTR - Radio Telephony Restricted\n",
    "  * DEL - Delayed\n",
    "* There is a slight positive correlation between arrival delays and the different status with a coefficient of 0.030 recorded. This indicates that a change in a flight status slighlty increases (if at all) the arrival delay time of the same flight.\n",
    "* Top 3 airport departure and arrival airports basing on their IATA Codes are:\n",
    "  * TUN - Tunis-Carthage international airpor\n",
    "  * DJE - Djerba-Zarzis International Airport\n",
    "  * ORY - Paris Orly Airport"
   ]
  },
  {
   "cell_type": "code",
   "execution_count": null,
   "id": "e82370ff-dcf4-486a-93af-b8767d0791bb",
   "metadata": {},
   "outputs": [],
   "source": []
  }
 ],
 "metadata": {
  "kernelspec": {
   "display_name": "Python 3 (ipykernel)",
   "language": "python",
   "name": "python3"
  },
  "language_info": {
   "codemirror_mode": {
    "name": "ipython",
    "version": 3
   },
   "file_extension": ".py",
   "mimetype": "text/x-python",
   "name": "python",
   "nbconvert_exporter": "python",
   "pygments_lexer": "ipython3",
   "version": "3.11.5"
  }
 },
 "nbformat": 4,
 "nbformat_minor": 5
}
